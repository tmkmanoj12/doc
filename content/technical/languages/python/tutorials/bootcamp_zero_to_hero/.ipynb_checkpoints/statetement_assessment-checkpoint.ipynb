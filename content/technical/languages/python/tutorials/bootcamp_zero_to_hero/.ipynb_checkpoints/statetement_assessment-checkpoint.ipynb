{
 "cells": [
  {
   "cell_type": "markdown",
   "metadata": {
    "collapsed": true
   },
   "source": [
    "# Statements Assessment Test\n",
    "Lets test your knowledge!"
   ]
  },
  {
   "cell_type": "markdown",
   "metadata": {},
   "source": [
    "_____\n",
    "**Use for, split(), and if to create a Statement that will print out words that start with 's':**"
   ]
  },
  {
   "cell_type": "code",
   "execution_count": 3,
   "metadata": {
    "collapsed": true
   },
   "outputs": [],
   "source": [
    "st = 'Print only the words that start with s in this sentence'"
   ]
  },
  {
   "cell_type": "code",
   "execution_count": 5,
   "metadata": {},
   "outputs": [
    {
     "name": "stdout",
     "output_type": "stream",
     "text": [
      "start\n",
      "s\n",
      "sentence\n"
     ]
    }
   ],
   "source": [
    "#Code here\n",
    "st = 'Print only the words that start with s in this sentence'\n",
    "for item in st.split():\n",
    "    if item[0] == 's' :\n",
    "        print(item)\n",
    "    "
   ]
  },
  {
   "cell_type": "markdown",
   "metadata": {},
   "source": [
    "______\n",
    "**Use range() to print all the even numbers from 0 to 10.**"
   ]
  },
  {
   "cell_type": "code",
   "execution_count": 7,
   "metadata": {},
   "outputs": [
    {
     "name": "stdout",
     "output_type": "stream",
     "text": [
      "0\n",
      "2\n",
      "4\n",
      "6\n",
      "8\n",
      "10\n"
     ]
    }
   ],
   "source": [
    "#Code Here\n",
    "for item in range(0 ,11):\n",
    "    if item%2 ==0:\n",
    "        print item"
   ]
  },
  {
   "cell_type": "markdown",
   "metadata": {},
   "source": [
    "___\n",
    "**Use List comprehension to create a list of all numbers between 1 and 50 that are divisible by 3.**"
   ]
  },
  {
   "cell_type": "code",
   "execution_count": 20,
   "metadata": {},
   "outputs": [
    {
     "name": "stdout",
     "output_type": "stream",
     "text": [
      "[0, 3, 6, 9, 12, 15, 18, 21, 24, 27, 30, 33, 36, 39, 42, 45, 48]\n"
     ]
    }
   ],
   "source": [
    "#Code in this cell\n",
    "l = [item  for item in range(0,50,3)]\n",
    "k =  [item for item in range(0,50) if item%3 ==0 ] "
   ]
  },
  {
   "cell_type": "markdown",
   "metadata": {},
   "source": [
    "_____\n",
    "**Go through the string below and if the length of a word is even print \"even!\"**"
   ]
  },
  {
   "cell_type": "code",
   "execution_count": 6,
   "metadata": {
    "collapsed": true
   },
   "outputs": [],
   "source": [
    "st = 'Print every word in this sentence that has an even number of letters'"
   ]
  },
  {
   "cell_type": "code",
   "execution_count": 25,
   "metadata": {},
   "outputs": [
    {
     "name": "stdout",
     "output_type": "stream",
     "text": [
      "word\n",
      "in\n",
      "this\n",
      "sentence\n",
      "that\n",
      "an\n",
      "even\n",
      "number\n",
      "of\n"
     ]
    }
   ],
   "source": [
    "#Code in this cell\n",
    "st = 'Print every word in this sentence that has an even number of letters'\n",
    "for item in st.split():\n",
    "    if(len(item)%2==0):\n",
    "        print item"
   ]
  },
  {
   "cell_type": "markdown",
   "metadata": {},
   "source": [
    "____\n",
    "**Write a program that prints the integers from 1 to 100. But for multiples of three print \"Fizz\" instead of the number, and for the multiples of five print \"Buzz\". For numbers which are multiples of both three and five print \"FizzBuzz\".**"
   ]
  },
  {
   "cell_type": "code",
   "execution_count": 31,
   "metadata": {},
   "outputs": [
    {
     "name": "stdout",
     "output_type": "stream",
     "text": [
      "1\n",
      "2\n",
      "Fizz\n",
      "4\n",
      "BuZZ\n",
      "Fizz\n",
      "7\n",
      "8\n",
      "Fizz\n",
      "BuZZ\n",
      "11\n",
      "Fizz\n",
      "13\n",
      "14\n",
      "Fizz BuZZ\n",
      "16\n",
      "17\n",
      "Fizz\n",
      "19\n",
      "BuZZ\n",
      "Fizz\n",
      "22\n",
      "23\n",
      "Fizz\n",
      "BuZZ\n",
      "26\n",
      "Fizz\n",
      "28\n",
      "29\n",
      "Fizz BuZZ\n",
      "31\n",
      "32\n",
      "Fizz\n",
      "34\n",
      "BuZZ\n",
      "Fizz\n",
      "37\n",
      "38\n",
      "Fizz\n",
      "BuZZ\n",
      "41\n",
      "Fizz\n",
      "43\n",
      "44\n",
      "Fizz BuZZ\n",
      "46\n",
      "47\n",
      "Fizz\n",
      "49\n",
      "BuZZ\n",
      "Fizz\n",
      "52\n",
      "53\n",
      "Fizz\n",
      "BuZZ\n",
      "56\n",
      "Fizz\n",
      "58\n",
      "59\n",
      "Fizz BuZZ\n",
      "61\n",
      "62\n",
      "Fizz\n",
      "64\n",
      "BuZZ\n",
      "Fizz\n",
      "67\n",
      "68\n",
      "Fizz\n",
      "BuZZ\n",
      "71\n",
      "Fizz\n",
      "73\n",
      "74\n",
      "Fizz BuZZ\n",
      "76\n",
      "77\n",
      "Fizz\n",
      "79\n",
      "BuZZ\n",
      "Fizz\n",
      "82\n",
      "83\n",
      "Fizz\n",
      "BuZZ\n",
      "86\n",
      "Fizz\n",
      "88\n",
      "89\n",
      "Fizz BuZZ\n",
      "91\n",
      "92\n",
      "Fizz\n",
      "94\n",
      "BuZZ\n",
      "Fizz\n",
      "97\n",
      "98\n",
      "Fizz\n",
      "BuZZ\n"
     ]
    }
   ],
   "source": [
    "#Code in this cell\n",
    "for item in range(1,101):\n",
    "    if(item%3==0 and item%5 !=0):\n",
    "        print \"Fizz\"\n",
    "        \n",
    "    elif(item%3!=0 and item%5 ==0):\n",
    "        print \"BuZZ\"\n",
    "    \n",
    "    elif(item%3==0 and item%5 ==0):\n",
    "        print \"Fizz BuZZ\"\n",
    "    else:\n",
    "        print item\n",
    "    "
   ]
  },
  {
   "cell_type": "markdown",
   "metadata": {},
   "source": [
    "____\n",
    "**Use List Comprehension to create a list of the first letters of every word in the string below:**"
   ]
  },
  {
   "cell_type": "code",
   "execution_count": 8,
   "metadata": {
    "collapsed": true
   },
   "outputs": [],
   "source": [
    "st = 'Create a list of the first letters of every word in this string'"
   ]
  },
  {
   "cell_type": "code",
   "execution_count": 5,
   "metadata": {
    "collapsed": true
   },
   "outputs": [],
   "source": [
    "#Code in this cell"
   ]
  },
  {
   "cell_type": "markdown",
   "metadata": {},
   "source": [
    "### Great Job!"
   ]
  }
 ],
 "metadata": {
  "kernelspec": {
   "display_name": "Python 2",
   "language": "python",
   "name": "python2"
  },
  "language_info": {
   "codemirror_mode": {
    "name": "ipython",
    "version": 2
   },
   "file_extension": ".py",
   "mimetype": "text/x-python",
   "name": "python",
   "nbconvert_exporter": "python",
   "pygments_lexer": "ipython2",
   "version": "2.7.15"
  }
 },
 "nbformat": 4,
 "nbformat_minor": 1
}
