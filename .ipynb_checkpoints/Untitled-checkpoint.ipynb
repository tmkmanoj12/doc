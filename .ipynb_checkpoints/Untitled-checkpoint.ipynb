{
 "cells": [
  {
   "cell_type": "code",
   "execution_count": 89,
   "metadata": {},
   "outputs": [
    {
     "ename": "IndentationError",
     "evalue": "unindent does not match any outer indentation level (<ipython-input-89-4101210aa227>, line 13)",
     "output_type": "error",
     "traceback": [
      "\u001b[0;36m  File \u001b[0;32m\"<ipython-input-89-4101210aa227>\"\u001b[0;36m, line \u001b[0;32m13\u001b[0m\n\u001b[0;31m    self.radius = new_radius\u001b[0m\n\u001b[0m                            ^\u001b[0m\n\u001b[0;31mIndentationError\u001b[0m\u001b[0;31m:\u001b[0m unindent does not match any outer indentation level\n"
     ]
    }
   ],
   "source": [
    "class Circle(object):\n",
    "  #class object attributes\n",
    "  shape = 'round'\n",
    "  pi = 3.14\n",
    "  def __init__(self, radius=1):\n",
    "    self.radius = radius\n",
    "  def area (self):\n",
    "    return Circle.pi*(self.radius**2)\n",
    "  def set_radius(self, new_radius=1):\n",
    "    \"\"\"\n",
    "    this will takes new radius and resets current radius\n",
    "    \"\"\"\n",
    "    self.radius = new_radius\n",
    "\n",
    "c1  = Circle(radius = 2)\n",
    "print c1.pi # same as original\n",
    "print \"c1 radius = {x}\".format(x=c1.radius)\n",
    "print \"c1 area = {x}\".format(x = c1.area())\n",
    "\n",
    "c2  = Circle(radius = 4)\n",
    "print c2.pi # same as original\n",
    "print \"c2 radius = {x}\".format(x=c2.radius)\n",
    "print \"c2 area = {x}\".format(x = c2.area())\n",
    "\n",
    "c1.set_radius(100)\n",
    "print \"c1  new radius = {x}\".format(x=c1.radius)\n",
    "print \"c1  new area = {x}\".format(x = c1.area())"
   ]
  },
  {
   "cell_type": "code",
   "execution_count": null,
   "metadata": {},
   "outputs": [],
   "source": []
  }
 ],
 "metadata": {
  "kernelspec": {
   "display_name": "Python 2",
   "language": "python",
   "name": "python2"
  },
  "language_info": {
   "codemirror_mode": {
    "name": "ipython",
    "version": 2
   },
   "file_extension": ".py",
   "mimetype": "text/x-python",
   "name": "python",
   "nbconvert_exporter": "python",
   "pygments_lexer": "ipython2",
   "version": "2.7.15"
  }
 },
 "nbformat": 4,
 "nbformat_minor": 2
}
